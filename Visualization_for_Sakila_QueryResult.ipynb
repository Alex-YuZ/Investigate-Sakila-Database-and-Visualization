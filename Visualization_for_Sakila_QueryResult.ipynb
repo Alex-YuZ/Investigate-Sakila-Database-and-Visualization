{
 "cells": [
  {
   "cell_type": "markdown",
   "metadata": {},
   "source": [
    "# Visualization for Sakila Movie Database"
   ]
  },
  {
   "cell_type": "markdown",
   "metadata": {},
   "source": [
    "This notebook is used for generating visualizations based on the PostgreSQL data analysis results.\n",
    "\n",
    "Several interesting questions have been explored as we can see below.\n",
    "\n",
    "**Table of Contents**\n",
    "\n",
    "- [Query 1. What is the rental behavior in family movies?](#query1)\n",
    "\n",
    "- [Query 2. What were the rental duration in quartile for family movies?](#query2)\n",
    "\n",
    "- [Query 3. What were the rental orders by store?](#query4)\n",
    "\n",
    "- [Query 4. Payment Difference between months for Top 10 Payors](#query6)\n",
    "\n",
    "\n"
   ]
  },
  {
   "cell_type": "code",
   "execution_count": 1,
   "metadata": {},
   "outputs": [],
   "source": [
    "# change to working directory\n",
    "import os\n",
    "os.chdir('projects_on_GitHub/udacity_project/SQL/Sakila_Query_Viz')"
   ]
  },
  {
   "cell_type": "code",
   "execution_count": 2,
   "metadata": {},
   "outputs": [
    {
     "name": "stdout",
     "output_type": "stream",
     "text": [
      "README.md\r\n",
      "Visualization_for_Sakila_QueryResult.ipynb\r\n",
      "query.sql\r\n",
      "query1.csv\r\n",
      "query1_rental_count_byCat.png\r\n",
      "query2.csv\r\n",
      "query3.csv\r\n",
      "query4.csv\r\n",
      "query5.csv\r\n",
      "query6.csv\r\n"
     ]
    }
   ],
   "source": [
    "ls"
   ]
  },
  {
   "cell_type": "code",
   "execution_count": 3,
   "metadata": {},
   "outputs": [],
   "source": [
    "# Configure some basic parameters of plotting for general purpose (uniformity)\n",
    "figsize=(8, 4)\n",
    "dpi = 100\n",
    "label_fontsize = 12\n",
    "title_fontsize = 18\n",
    "title_pad = 15\n",
    "label_pad = 6"
   ]
  },
  {
   "cell_type": "markdown",
   "metadata": {},
   "source": [
    "<a id='query1'></a>\n",
    "## Query 1. What is the rental behavior in family movies?\n",
    "\n",
    "We want to understand more about the movies that families are watching. The following categories are considered family movies: **Animation, Children, Classics, Comedy, Family and Music**. Create a query that lists each movie, the film category it is classified in, and the number of times it has been rented out."
   ]
  },
  {
   "cell_type": "code",
   "execution_count": 4,
   "metadata": {},
   "outputs": [
    {
     "data": {
      "text/html": [
       "<div>\n",
       "<style scoped>\n",
       "    .dataframe tbody tr th:only-of-type {\n",
       "        vertical-align: middle;\n",
       "    }\n",
       "\n",
       "    .dataframe tbody tr th {\n",
       "        vertical-align: top;\n",
       "    }\n",
       "\n",
       "    .dataframe thead th {\n",
       "        text-align: right;\n",
       "    }\n",
       "</style>\n",
       "<table border=\"1\" class=\"dataframe\">\n",
       "  <thead>\n",
       "    <tr style=\"text-align: right;\">\n",
       "      <th></th>\n",
       "      <th>film_title</th>\n",
       "      <th>category_name</th>\n",
       "      <th>rental_count</th>\n",
       "    </tr>\n",
       "  </thead>\n",
       "  <tbody>\n",
       "    <tr>\n",
       "      <th>0</th>\n",
       "      <td>Alter Victory</td>\n",
       "      <td>Animation</td>\n",
       "      <td>22</td>\n",
       "    </tr>\n",
       "    <tr>\n",
       "      <th>1</th>\n",
       "      <td>Anaconda Confessions</td>\n",
       "      <td>Animation</td>\n",
       "      <td>21</td>\n",
       "    </tr>\n",
       "    <tr>\n",
       "      <th>2</th>\n",
       "      <td>Bikini Borrowers</td>\n",
       "      <td>Animation</td>\n",
       "      <td>17</td>\n",
       "    </tr>\n",
       "    <tr>\n",
       "      <th>3</th>\n",
       "      <td>Blackout Private</td>\n",
       "      <td>Animation</td>\n",
       "      <td>27</td>\n",
       "    </tr>\n",
       "    <tr>\n",
       "      <th>4</th>\n",
       "      <td>Borrowers Bedazzled</td>\n",
       "      <td>Animation</td>\n",
       "      <td>22</td>\n",
       "    </tr>\n",
       "  </tbody>\n",
       "</table>\n",
       "</div>"
      ],
      "text/plain": [
       "             film_title category_name  rental_count\n",
       "0         Alter Victory     Animation            22\n",
       "1  Anaconda Confessions     Animation            21\n",
       "2      Bikini Borrowers     Animation            17\n",
       "3      Blackout Private     Animation            27\n",
       "4   Borrowers Bedazzled     Animation            22"
      ]
     },
     "execution_count": 4,
     "metadata": {},
     "output_type": "execute_result"
    }
   ],
   "source": [
    "# Explore the dataset\n",
    "df1 = pd.read_csv('query1.csv')\n",
    "df1.head()"
   ]
  },
  {
   "cell_type": "code",
   "execution_count": 5,
   "metadata": {},
   "outputs": [
    {
     "data": {
      "text/plain": [
       "array(['Animation', 'Children', 'Classics', 'Comedy', 'Family', 'Music'],\n",
       "      dtype=object)"
      ]
     },
     "execution_count": 5,
     "metadata": {},
     "output_type": "execute_result"
    }
   ],
   "source": [
    "# SQL already filtered out the defined 'family movies' for us. Verify as follows.\n",
    "df1.category_name.unique()"
   ]
  },
  {
   "cell_type": "code",
   "execution_count": 6,
   "metadata": {},
   "outputs": [
    {
     "data": {
      "text/html": [
       "<div>\n",
       "<style scoped>\n",
       "    .dataframe tbody tr th:only-of-type {\n",
       "        vertical-align: middle;\n",
       "    }\n",
       "\n",
       "    .dataframe tbody tr th {\n",
       "        vertical-align: top;\n",
       "    }\n",
       "\n",
       "    .dataframe thead th {\n",
       "        text-align: right;\n",
       "    }\n",
       "</style>\n",
       "<table border=\"1\" class=\"dataframe\">\n",
       "  <thead>\n",
       "    <tr style=\"text-align: right;\">\n",
       "      <th></th>\n",
       "      <th>category_name</th>\n",
       "      <th>rental_count</th>\n",
       "    </tr>\n",
       "  </thead>\n",
       "  <tbody>\n",
       "    <tr>\n",
       "      <th>0</th>\n",
       "      <td>Animation</td>\n",
       "      <td>1166</td>\n",
       "    </tr>\n",
       "    <tr>\n",
       "      <th>1</th>\n",
       "      <td>Family</td>\n",
       "      <td>1096</td>\n",
       "    </tr>\n",
       "    <tr>\n",
       "      <th>2</th>\n",
       "      <td>Children</td>\n",
       "      <td>945</td>\n",
       "    </tr>\n",
       "    <tr>\n",
       "      <th>3</th>\n",
       "      <td>Comedy</td>\n",
       "      <td>941</td>\n",
       "    </tr>\n",
       "    <tr>\n",
       "      <th>4</th>\n",
       "      <td>Classics</td>\n",
       "      <td>939</td>\n",
       "    </tr>\n",
       "    <tr>\n",
       "      <th>5</th>\n",
       "      <td>Music</td>\n",
       "      <td>830</td>\n",
       "    </tr>\n",
       "  </tbody>\n",
       "</table>\n",
       "</div>"
      ],
      "text/plain": [
       "  category_name  rental_count\n",
       "0     Animation          1166\n",
       "1        Family          1096\n",
       "2      Children           945\n",
       "3        Comedy           941\n",
       "4      Classics           939\n",
       "5         Music           830"
      ]
     },
     "execution_count": 6,
     "metadata": {},
     "output_type": "execute_result"
    }
   ],
   "source": [
    "# construct dataframe for plot bar graph\n",
    "df1 = df1.groupby('category_name').rental_count.sum().sort_values(ascending=False).to_frame().reset_index()\n",
    "df1"
   ]
  },
  {
   "cell_type": "code",
   "execution_count": 7,
   "metadata": {},
   "outputs": [
    {
     "data": {
      "image/png": "[encoded data removed]",
      "text/plain": [
       "<Figure size 800x400 with 1 Axes>"
      ]
     },
     "metadata": {},
     "output_type": "display_data"
    }
   ],
   "source": [
    "# Figure size and dpi settings\n",
    "fig = plt.figure(figsize=figsize, dpi=dpi)\n",
    "\n",
    "# Main function for bar plotting\n",
    "sns.barplot(data=df1, x='category_name', y='rental_count', color='#26B3E6')\n",
    "\n",
    "# Customize plotting for presentation\n",
    "ax = plt.gca()\n",
    "ax.spines['top'].set_visible(False)\n",
    "ax.spines['right'].set_visible(False)\n",
    "ax.spines['left'].set_visible(False)\n",
    "ax.set_facecolor('white')\n",
    "fig.set_facecolor('white');\n",
    "\n",
    "# Map the results on top of respective bars\n",
    "for i in range (df1.shape[0]):\n",
    "    plt.text(i, df1.loc[i, 'rental_count']+20, df1.loc[i, 'rental_count'], ha='center')\n",
    "\n",
    "# Setting for labels and title\n",
    "plt.title('Rental Count by Category', fontsize=title_fontsize, pad=title_pad)\n",
    "plt.xlabel('category name', fontsize=label_fontsize, labelpad=label_pad)\n",
    "plt.ylabel('# of rentals', fontsize=label_fontsize, labelpad=label_pad)\n",
    "plt.ylim(0, 1300)\n",
    "plt.xticks(fontsize=10);\n",
    "ax.axes.yaxis.set_visible(False);\n",
    "\n",
    "# Export the viz\n",
    "plt.savefig('query1_rental_count_byCat.png', dpi=120, transparent=True)"
   ]
  },
  {
   "cell_type": "markdown",
   "metadata": {},
   "source": [
    "<a id='query2'></a>\n",
    "## Query 2. What were the rental duration in quartile for family movies?"
   ]
  },
  {
   "cell_type": "code",
   "execution_count": 8,
   "metadata": {},
   "outputs": [
    {
     "data": {
      "text/html": [
       "<div>\n",
       "<style scoped>\n",
       "    .dataframe tbody tr th:only-of-type {\n",
       "        vertical-align: middle;\n",
       "    }\n",
       "\n",
       "    .dataframe tbody tr th {\n",
       "        vertical-align: top;\n",
       "    }\n",
       "\n",
       "    .dataframe thead th {\n",
       "        text-align: right;\n",
       "    }\n",
       "</style>\n",
       "<table border=\"1\" class=\"dataframe\">\n",
       "  <thead>\n",
       "    <tr style=\"text-align: right;\">\n",
       "      <th></th>\n",
       "      <th>film_title</th>\n",
       "      <th>category_name</th>\n",
       "      <th>rental_duration</th>\n",
       "      <th>quartile_level</th>\n",
       "    </tr>\n",
       "  </thead>\n",
       "  <tbody>\n",
       "    <tr>\n",
       "      <th>0</th>\n",
       "      <td>Sweethearts Suspects</td>\n",
       "      <td>Children</td>\n",
       "      <td>3</td>\n",
       "      <td>1</td>\n",
       "    </tr>\n",
       "    <tr>\n",
       "      <th>1</th>\n",
       "      <td>Go Purple</td>\n",
       "      <td>Music</td>\n",
       "      <td>3</td>\n",
       "      <td>1</td>\n",
       "    </tr>\n",
       "    <tr>\n",
       "      <th>2</th>\n",
       "      <td>Bilko Anonymous</td>\n",
       "      <td>Family</td>\n",
       "      <td>3</td>\n",
       "      <td>1</td>\n",
       "    </tr>\n",
       "    <tr>\n",
       "      <th>3</th>\n",
       "      <td>Wait Cider</td>\n",
       "      <td>Animation</td>\n",
       "      <td>3</td>\n",
       "      <td>1</td>\n",
       "    </tr>\n",
       "    <tr>\n",
       "      <th>4</th>\n",
       "      <td>Daughter Madigan</td>\n",
       "      <td>Children</td>\n",
       "      <td>3</td>\n",
       "      <td>1</td>\n",
       "    </tr>\n",
       "    <tr>\n",
       "      <th>...</th>\n",
       "      <td>...</td>\n",
       "      <td>...</td>\n",
       "      <td>...</td>\n",
       "      <td>...</td>\n",
       "    </tr>\n",
       "    <tr>\n",
       "      <th>356</th>\n",
       "      <td>Wasteland Divine</td>\n",
       "      <td>Classics</td>\n",
       "      <td>7</td>\n",
       "      <td>4</td>\n",
       "    </tr>\n",
       "    <tr>\n",
       "      <th>357</th>\n",
       "      <td>Rebel Airport</td>\n",
       "      <td>Music</td>\n",
       "      <td>7</td>\n",
       "      <td>4</td>\n",
       "    </tr>\n",
       "    <tr>\n",
       "      <th>358</th>\n",
       "      <td>Pond Seattle</td>\n",
       "      <td>Animation</td>\n",
       "      <td>7</td>\n",
       "      <td>4</td>\n",
       "    </tr>\n",
       "    <tr>\n",
       "      <th>359</th>\n",
       "      <td>Perfect Groove</td>\n",
       "      <td>Comedy</td>\n",
       "      <td>7</td>\n",
       "      <td>4</td>\n",
       "    </tr>\n",
       "    <tr>\n",
       "      <th>360</th>\n",
       "      <td>Sensibility Rear</td>\n",
       "      <td>Family</td>\n",
       "      <td>7</td>\n",
       "      <td>4</td>\n",
       "    </tr>\n",
       "  </tbody>\n",
       "</table>\n",
       "<p>361 rows × 4 columns</p>\n",
       "</div>"
      ],
      "text/plain": [
       "               film_title category_name  rental_duration  quartile_level\n",
       "0    Sweethearts Suspects      Children                3               1\n",
       "1               Go Purple         Music                3               1\n",
       "2         Bilko Anonymous        Family                3               1\n",
       "3              Wait Cider     Animation                3               1\n",
       "4        Daughter Madigan      Children                3               1\n",
       "..                    ...           ...              ...             ...\n",
       "356      Wasteland Divine      Classics                7               4\n",
       "357         Rebel Airport         Music                7               4\n",
       "358          Pond Seattle     Animation                7               4\n",
       "359        Perfect Groove        Comedy                7               4\n",
       "360      Sensibility Rear        Family                7               4\n",
       "\n",
       "[361 rows x 4 columns]"
      ]
     },
     "execution_count": 8,
     "metadata": {},
     "output_type": "execute_result"
    }
   ],
   "source": [
    "# Load in the dataset\n",
    "df2 = pd.read_csv('query2.csv')\n",
    "df2"
   ]
  },
  {
   "cell_type": "code",
   "execution_count": 10,
   "metadata": {},
   "outputs": [
    {
     "data": {
      "image/png": "[encoded data removed]",
      "text/plain": [
       "<Figure size 800x400 with 1 Axes>"
      ]
     },
     "metadata": {},
     "output_type": "display_data"
    }
   ],
   "source": [
    "# sort values by category name alphabetically for plotting purpose\n",
    "df2 = df2.sort_values(by='category_name')\n",
    "\n",
    "# setting for figure size and resolution\n",
    "fig = plt.figure(figsize=figsize, dpi=dpi)\n",
    "\n",
    "# main function for plotting\n",
    "sns.countplot(data=df2, x='category_name', hue='quartile_level', palette='rocket_r', edgecolor='white')\n",
    "\n",
    "# customized settings for presentation\n",
    "ax = plt.gca()\n",
    "ax.spines['top'].set_visible(False)\n",
    "ax.spines['right'].set_visible(False)\n",
    "ax.set_facecolor('white')\n",
    "fig.set_facecolor('white');\n",
    "\n",
    "# customize legend display\n",
    "plt.legend(['Q1', 'Q2', 'Q3', 'Q4'], \n",
    "           ncol=4, \n",
    "           title='Quartile', \n",
    "           title_fontsize=8,  \n",
    "           prop={'size':8}, \n",
    "           loc='upper center', \n",
    "           fancybox=True, \n",
    "           bbox_to_anchor=[.5, 1.05])\n",
    "\n",
    "# setting for title and axis labels\n",
    "plt.title(label='Rental Duration Quartile by Category', pad=title_pad, fontsize=title_fontsize)\n",
    "plt.xlabel('Category', labelpad=label_pad, fontsize=label_fontsize)\n",
    "plt.ylabel('Film Count', labelpad=label_pad, fontsize=label_fontsize);\n",
    "\n",
    "# Export viz to file\n",
    "plt.savefig('query2_rental_duration_quartile.png', dpi=120, transparent=True)"
   ]
  },
  {
   "cell_type": "code",
   "execution_count": null,
   "metadata": {},
   "outputs": [],
   "source": []
  }
 ],
 "metadata": {
  "kernelspec": {
   "display_name": "Python 3",
   "language": "python",
   "name": "python3"
  },
  "language_info": {
   "codemirror_mode": {
    "name": "ipython",
    "version": 3
   },
   "file_extension": ".py",
   "mimetype": "text/x-python",
   "name": "python",
   "nbconvert_exporter": "python",
   "pygments_lexer": "ipython3",
   "version": "3.7.9"
  }
 },
 "nbformat": 4,
 "nbformat_minor": 4
}
